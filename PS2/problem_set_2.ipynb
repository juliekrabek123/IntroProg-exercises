{
 "cells": [
  {
   "cell_type": "markdown",
   "metadata": {},
   "source": [
    "# Problem set 2: Finding the Walras equilibrium in a multi-agent economy"
   ]
  },
  {
   "cell_type": "code",
   "execution_count": 2,
   "metadata": {},
   "outputs": [
    {
     "name": "stdout",
     "output_type": "stream",
     "text": [
      "The autoreload extension is already loaded. To reload it, use:\n",
      "  %reload_ext autoreload\n"
     ]
    }
   ],
   "source": [
    "%load_ext autoreload\n",
    "%autoreload 2"
   ]
  },
  {
   "cell_type": "markdown",
   "metadata": {},
   "source": [
    "# Tasks"
   ]
  },
  {
   "cell_type": "markdown",
   "metadata": {},
   "source": [
    "## Drawing random numbers"
   ]
  },
  {
   "cell_type": "markdown",
   "metadata": {},
   "source": [
    "Replace the missing lines in the code below to get the same output as in the answer."
   ]
  },
  {
   "cell_type": "code",
   "execution_count": 4,
   "metadata": {},
   "outputs": [
    {
     "name": "stdout",
     "output_type": "stream",
     "text": [
      "(0,0): x = 0.569\n",
      "(0,1): x = 0.077\n",
      "(1,0): x = 0.569\n",
      "(1,1): x = 0.077\n",
      "(2,0): x = 0.569\n",
      "(2,1): x = 0.077\n"
     ]
    }
   ],
   "source": [
    "import numpy as np\n",
    "np.random.seed(1986)\n",
    "\n",
    "state = np.random.get_state()\n",
    "\n",
    "#  Note that the np.random.get_state() function is used for pseudorandom number generation, \n",
    "# which means that the sequence of random numbers generated is not truly random, \n",
    "# but is generated using a deterministic algorithm that appears random. \n",
    "\n",
    "# if you need to reproduce the same sequence of random numbers, you can restore the state of the \n",
    "# random number generator using np.random.set_state(state) before running the code again.\n",
    "# Dette anvendes i nedenstående \n",
    "\n",
    "for i in range(3):\n",
    "    np.random.set_state(state)\n",
    "    for j in range(2):\n",
    "        x = np.random.uniform()\n",
    "        print(f'({i},{j}): x = {x:.3f}')"
   ]
  },
  {
   "cell_type": "markdown",
   "metadata": {},
   "source": [
    "**Answer:**"
   ]
  },
  {
   "cell_type": "markdown",
   "metadata": {},
   "source": [
    "See A1.py"
   ]
  },
  {
   "cell_type": "markdown",
   "metadata": {},
   "source": [
    "## Find the expectated value"
   ]
  },
  {
   "cell_type": "markdown",
   "metadata": {},
   "source": [
    "Find the expected value and the expected variance\n",
    "\n",
    "$$ \n",
    "\\mathbb{E}[g(x)] \\approx \\frac{1}{N}\\sum_{i=1}^{N} g(x_i)\n",
    "$$\n",
    "$$ \n",
    "\\mathbb{VAR}[g(x)] \\approx \\frac{1}{N}\\sum_{i=1}^{N} \\left( g(x_i) - \\frac{1}{N}\\sum_{i=1}^{N} g(x_i) \\right)^2\n",
    "$$\n",
    "\n",
    "where $ x_i \\sim \\mathcal{N}(0,\\sigma) $ and\n",
    "\n",
    "$$ \n",
    "g(x,\\omega)=\\begin{cases}\n",
    "x & \\text{if }x\\in[-\\omega,\\omega]\\\\\n",
    "-\\omega & \\text{if }x<-\\omega\\\\\n",
    "\\omega & \\text{if }x>\\omega\n",
    "\\end{cases} \n",
    "$$"
   ]
  },
  {
   "cell_type": "code",
   "execution_count": 10,
   "metadata": {},
   "outputs": [
    {
     "name": "stdout",
     "output_type": "stream",
     "text": [
      "mean = -0.00264, var = 2.69804\n"
     ]
    }
   ],
   "source": [
    "# a. parameter choices\n",
    "sigma = 3.14\n",
    "omega = 2\n",
    "N = 10000\n",
    "np.random.seed(1986)\n",
    "\n",
    "# b. draw random numbers\n",
    "x = np.random.normal(loc=0, scale=sigma, size=N)  # loc: gennemsnit, scale: std.\n",
    "\n",
    "# c. transformation function\n",
    "def g(x, omega):\n",
    "    y = x.copy()                # Y er en kopi af x \n",
    "    y[x < -omega] = -omega      # This line sets all elements of y that are less than -omega to -omega. This effectively clips any values in x that are less than -omega to -omega.\n",
    "    y[x > omega] = omega        # This line sets all elements of y that are greater than omega to omega. This effectively clips any values in x that are greater than omega to omega.\n",
    "    return y\n",
    "\n",
    "# d. mean and variance\n",
    "mean = np.mean(g(x, omega))\n",
    "var = np.var(g(x-mean, omega))\n",
    "print(f'mean = {mean:.5f}, var = {var:.5f}')"
   ]
  },
  {
   "cell_type": "markdown",
   "metadata": {},
   "source": [
    "**Answer:**"
   ]
  },
  {
   "cell_type": "markdown",
   "metadata": {},
   "source": [
    "See A2.py"
   ]
  },
  {
   "cell_type": "markdown",
   "metadata": {},
   "source": [
    "## Interactive histogram"
   ]
  },
  {
   "cell_type": "markdown",
   "metadata": {},
   "source": [
    "**First task:** Consider the code below. Fill in the missing lines so the figure is plotted."
   ]
  },
  {
   "cell_type": "code",
   "execution_count": 15,
   "metadata": {},
   "outputs": [
    {
     "data": {
      "image/png": "[encoded data removed]",
      "text/plain": [
       "<Figure size 640x480 with 1 Axes>"
      ]
     },
     "metadata": {},
     "output_type": "display_data"
    }
   ],
   "source": [
    "# a. import\n",
    "import ipywidgets as widgets\n",
    "from scipy.stats import norm\n",
    "import matplotlib.pyplot as plt\n",
    "import numpy as np\n",
    "%matplotlib inline\n",
    "\n",
    "# b. plotting figure\n",
    "def fitting_normal(X, mu_guess, sigma_guess):\n",
    "\n",
    "    # i. normal distribution from guess\n",
    "    F = norm(loc=mu_guess, scale=sigma_guess)\n",
    "\n",
    "    # ii. x-values\n",
    "    # This below line uses the percent point function (ppf) of the F distribution from scipy.stats to calculate \n",
    "    # the value at which the cumulative distribution function (CDF) of the F distribution is equal to 0.1% (or 0.001). \n",
    "    x_low = F.ppf(0.001)    # x value where cdf is 0.001\n",
    "    x_high = F.ppf(0.999)   # x value where cdf is 0.999\n",
    "    x = np.linspace(x_low, x_high, 100)\n",
    "\n",
    "    # iii. figure\n",
    "    fig = plt.figure(dpi=100)\n",
    "    ax = fig.add_subplot(1, 1, 1)\n",
    "    ax.plot(x, F.pdf(x), lw=2, label='Guess')\n",
    "    ax.hist(X, bins=100, density=True, histtype='stepfilled', label='True')\n",
    "    ax.set_ylim([0, 0.5])\n",
    "    ax.set_xlim([-6, 6])\n",
    "    ax.legend()\n",
    "\n",
    "\n",
    "# c. parameters\n",
    "mu_true = 2\n",
    "sigma_true = 1\n",
    "mu_guess = 1\n",
    "sigma_guess = 2\n",
    "\n",
    "# d. figure\n",
    "X = np.random.normal(loc=mu_true, scale=sigma_true, size=10**6)\n",
    "#fitting_normal(X,mu_guess,sigma_guess)\n",
    "\n",
    "\n",
    "# e. figure\n",
    "try:\n",
    "    fitting_normal(X,mu_guess,sigma_guess)\n",
    "except:\n",
    "    print('failed')"
   ]
  },
  {
   "cell_type": "markdown",
   "metadata": {},
   "source": [
    "**Second task:** Create an interactive version of the figure with sliders for $\\mu$ and $\\sigma$."
   ]
  },
  {
   "cell_type": "code",
   "execution_count": 16,
   "metadata": {},
   "outputs": [
    {
     "data": {
      "application/vnd.jupyter.widget-view+json": {
       "model_id": "4305f4a02f204c7ebfab566d10f30de4",
       "version_major": 2,
       "version_minor": 0
      },
      "text/plain": [
       "interactive(children=(FloatSlider(value=1.0, description='$\\\\mu$', max=5.0, min=0.1, step=0.05), FloatSlider(v…"
      ]
     },
     "metadata": {},
     "output_type": "display_data"
    },
    {
     "data": {
      "text/plain": [
       "<function __main__.fitting_normal(X, mu_guess, sigma_guess)>"
      ]
     },
     "execution_count": 16,
     "metadata": {},
     "output_type": "execute_result"
    }
   ],
   "source": [
    "# write your code here\n",
    "\n",
    "# Sætter X, mu_guess og sigma_guess lig nogle widgets, hvor true er fixed mens de andre har FloatSlider\n",
    "\n",
    "widgets.interact(fitting_normal,\n",
    "                 X=widgets.fixed(X),\n",
    "                 mu_guess=widgets.FloatSlider(\n",
    "                     description=\"$\\mu$\", min=0.1, max=5, step=0.05, value=1),\n",
    "                 sigma_guess=widgets.FloatSlider(\n",
    "                     description=\"$\\sigma$\", min=0.1, max=5, step=0.05, value=1)\n",
    ")"
   ]
  },
  {
   "cell_type": "markdown",
   "metadata": {},
   "source": [
    "**Answer:**"
   ]
  },
  {
   "cell_type": "markdown",
   "metadata": {},
   "source": [
    "See A3.py"
   ]
  },
  {
   "cell_type": "markdown",
   "metadata": {},
   "source": [
    "## Modules"
   ]
  },
  {
   "cell_type": "markdown",
   "metadata": {},
   "source": [
    "1. Call the function `myfun` from the module `mymodule` present in this folder.\n",
    "2. Open VSCode and open the `mymodule.py`, add a new function and call it from this notebook."
   ]
  },
  {
   "cell_type": "code",
   "execution_count": 17,
   "metadata": {},
   "outputs": [
    {
     "name": "stdout",
     "output_type": "stream",
     "text": [
      "hello world!\n",
      "hello world!\n",
      "hello world!\n",
      "hello world!\n",
      "hello world!\n"
     ]
    }
   ],
   "source": [
    "# Importerer .py filen 'mymodule'\n",
    "import mymodule\n",
    "\n",
    "# Anvender functionen i .py filen, som hedder myfun. 5-tallet gør at vi printer 'hello world!' 5 gange. \n",
    "mymodule.myfun(5)"
   ]
  },
  {
   "cell_type": "markdown",
   "metadata": {},
   "source": [
    "**Answer:**"
   ]
  },
  {
   "cell_type": "markdown",
   "metadata": {},
   "source": [
    "See A4.py"
   ]
  },
  {
   "cell_type": "markdown",
   "metadata": {},
   "source": [
    "## Git"
   ]
  },
  {
   "cell_type": "markdown",
   "metadata": {},
   "source": [
    "1. Try to go to your own personal GitHub main page and create a new repository. Then put your solution to this problem set in it.\n",
    "2. Pair up with a fellow student. Clone each others repositories and run the code in them."
   ]
  },
  {
   "cell_type": "markdown",
   "metadata": {},
   "source": [
    "**IMPORTANT:** You will need **git** for the data project in a few needs. Better learn it know. Remember, that the teaching assistants are there to help you."
   ]
  },
  {
   "cell_type": "markdown",
   "metadata": {},
   "source": [
    "# Problem"
   ]
  },
  {
   "attachments": {},
   "cell_type": "markdown",
   "metadata": {},
   "source": [
    "Consider an **exchange economy** with\n",
    "\n",
    "1. 2 goods, $(x_1,x_2)$\n",
    "2. $N$ consumers indexed by $j \\in \\{1,2,\\dots,N\\}$\n",
    "3. Preferences are Cobb-Douglas with truncated normally *heterogenous* coefficients\n",
    "\n",
    "    $$\n",
    "    \\begin{aligned}\n",
    "    u^{j}(x_{1},x_{2}) & = x_{1}^{\\alpha_{j}}x_{2}^{1-\\alpha_{j}}\\\\\n",
    "     & \\tilde{\\alpha}_{j}\\sim\\mathcal{N}(\\mu,\\sigma)\\\\\n",
    "     & \\alpha_j = \\max(\\underline{\\mu},\\min(\\overline{\\mu},\\tilde{\\alpha}_{j}))\n",
    "    \\end{aligned}\n",
    "    $$\n",
    "\n",
    "4. Endowments are *heterogenous* and given by\n",
    "\n",
    "    $$\n",
    "    \\begin{aligned}\n",
    "    \\boldsymbol{e}^{j}&=(e_{1}^{j},e_{2}^{j}) \\\\\n",
    "     & e_i^j \\sim f, f(x,\\beta_i) =  1/\\beta_i \\exp(-x/\\beta)\n",
    "    \\end{aligned}\n",
    "    $$"
   ]
  },
  {
   "cell_type": "markdown",
   "metadata": {},
   "source": [
    "**Problem:** Write a function to solve for the equilibrium."
   ]
  },
  {
   "cell_type": "markdown",
   "metadata": {},
   "source": [
    "You can use the following parameters:"
   ]
  },
  {
   "cell_type": "code",
   "execution_count": null,
   "metadata": {},
   "outputs": [],
   "source": [
    "# a. parameters\n",
    "N = 10000\n",
    "mu = 0.5\n",
    "sigma = 0.2\n",
    "mu_low = 0.1\n",
    "mu_high = 0.9\n",
    "beta1 = 1.3\n",
    "beta2 = 2.1\n",
    "seed = 1986"
   ]
  },
  {
   "cell_type": "markdown",
   "metadata": {},
   "source": [
    "**Hint:** The code structure is exactly the same as for the exchange economy considered in the lecture. The code for solving that exchange economy is reproduced in condensed form below."
   ]
  },
  {
   "cell_type": "code",
   "execution_count": 18,
   "metadata": {},
   "outputs": [
    {
     "name": "stdout",
     "output_type": "stream",
     "text": [
      "  0: p1 =   1.33690689 -> excess demand ->  -630.93108302\n",
      "  1: p1 =   1.27551407 -> excess demand ->  -613.92820358\n",
      "  2: p1 =   1.21593719 -> excess demand ->  -595.76882769\n",
      "  3: p1 =   1.15829785 -> excess demand ->  -576.39340748\n",
      "  4: p1 =   1.10272273 -> excess demand ->  -555.75114178\n",
      "   ...\n",
      " 25: p1 =   0.53269252 -> excess demand ->   -53.80455643\n",
      " 50: p1 =   0.50897770 -> excess demand ->    -0.27125769\n",
      " 75: p1 =   0.50886603 -> excess demand ->    -0.00120613\n",
      "100: p1 =   0.50886553 -> excess demand ->    -0.00000536\n",
      "125: p1 =   0.50886553 -> excess demand ->    -0.00000002\n",
      "130: p1 =   0.50886553 -> excess demand ->    -0.00000001\n"
     ]
    }
   ],
   "source": [
    "# a. parameters\n",
    "N = 1000\n",
    "k = 2\n",
    "mu_low = 0.1\n",
    "mu_high = 0.9\n",
    "seed = 1986\n",
    "\n",
    "# b. draws of random numbers\n",
    "np.random.seed(seed)\n",
    "alphas = np.random.uniform(low=mu_low,high=mu_high,size=N)\n",
    "\n",
    "# c. demand function\n",
    "def demand_good_1_func(alpha,p1,p2,k):\n",
    "    I = k*p1+p2\n",
    "    return alpha*I/p1\n",
    "\n",
    "# d. excess demand function\n",
    "def excess_demand_good_1_func(alphas,p1,p2,k):\n",
    "    \n",
    "    # a. demand\n",
    "    demand = np.sum(demand_good_1_func(alphas,p1,p2,k))\n",
    "    \n",
    "    # b. supply\n",
    "    # alphas.size: This is the number of elements in the alphas array. \n",
    "    # The size attribute is a built-in attribute of numpy arrays, and returns the total number of elements in the array.\n",
    "    supply = k*alphas.size\n",
    "    \n",
    "    # c. excess demand\n",
    "    excess_demand = demand-supply\n",
    "    \n",
    "    return excess_demand\n",
    "\n",
    "# e. find equilibrium function\n",
    "def find_equilibrium(alphas,p1,p2,k,kappa=0.5,eps=1e-8,maxiter=500):\n",
    "    \n",
    "    t = 0\n",
    "    while True:\n",
    "\n",
    "        # a. step 1: excess demand\n",
    "        Z1 = excess_demand_good_1_func(alphas,p1,p2,k)\n",
    "        \n",
    "        # b: step 2: stop?\n",
    "        if  np.abs(Z1) < eps or t >= maxiter:\n",
    "            print(f'{t:3d}: p1 = {p1:12.8f} -> excess demand -> {Z1:14.8f}')\n",
    "            break    \n",
    "    \n",
    "        # c. step 3: update p1\n",
    "        p1 = p1 + kappa*Z1/alphas.size\n",
    "            \n",
    "        # d. step 4: return \n",
    "        if t < 5 or t%25 == 0:\n",
    "            print(f'{t:3d}: p1 = {p1:12.8f} -> excess demand -> {Z1:14.8f}')\n",
    "        elif t == 5:\n",
    "            print('   ...')\n",
    "            \n",
    "        t += 1    \n",
    "\n",
    "    return p1\n",
    "\n",
    "# e. call find equilibrium function\n",
    "p1 = 1.4\n",
    "p2 = 1\n",
    "kappa = 0.1\n",
    "eps = 1e-8\n",
    "p1 = find_equilibrium(alphas,p1,p2,k,kappa=kappa,eps=eps)"
   ]
  },
  {
   "cell_type": "markdown",
   "metadata": {},
   "source": [
    "**Answers:**"
   ]
  },
  {
   "cell_type": "markdown",
   "metadata": {},
   "source": [
    "See A5.py"
   ]
  },
  {
   "cell_type": "markdown",
   "metadata": {},
   "source": [
    "## Save and load"
   ]
  },
  {
   "cell_type": "markdown",
   "metadata": {},
   "source": [
    "Consider the code below and fill in the missing lines so the code can run without any errors."
   ]
  },
  {
   "cell_type": "code",
   "execution_count": 19,
   "metadata": {},
   "outputs": [
    {
     "name": "stdout",
     "output_type": "stream",
     "text": [
      "variables loaded without error\n"
     ]
    }
   ],
   "source": [
    "import pickle\n",
    "\n",
    "# a. create some data\n",
    "my_data = {}\n",
    "my_data['A'] = {'a': 1, 'b': 2}\n",
    "my_data['B'] = np.array([1, 2, 3])\n",
    "my_data['C'] = (1, 4, 2)\n",
    "\n",
    "my_np_data = {}\n",
    "my_np_data['D'] = np.array([1, 2, 3])\n",
    "my_np_data['E'] = np.zeros((5, 8))\n",
    "my_np_data['F'] = np.ones((7, 3, 8))\n",
    "\n",
    "# c. save with pickle\n",
    "with open(f'data.p', 'wb') as f:\n",
    "    pickle.dump(my_data, f)\n",
    "\n",
    "# d. save with numpy\n",
    "np.savez(f'data.npz', **my_np_data)\n",
    "\n",
    "\n",
    "# a. try\n",
    "def load_and_print():\n",
    "    with open(f'data.p', 'rb') as f:\n",
    "        data = pickle.load(f)\n",
    "        A = data['A']\n",
    "        B = data['B']\n",
    "        C = data['C']\n",
    "\n",
    "    with np.load(f'data.npz') as data:\n",
    "        D = data['D']\n",
    "        E = data['E']\n",
    "        F = data['F']\n",
    "\n",
    "    print('variables loaded without error')\n",
    "\n",
    "\n",
    "try:\n",
    "    load_and_print()\n",
    "except:\n",
    "    print('an error is found')"
   ]
  },
  {
   "cell_type": "markdown",
   "metadata": {},
   "source": [
    "**Answer:**"
   ]
  },
  {
   "cell_type": "markdown",
   "metadata": {},
   "source": [
    "See A6.py"
   ]
  },
  {
   "cell_type": "markdown",
   "metadata": {},
   "source": [
    "# Extra Problems"
   ]
  },
  {
   "cell_type": "markdown",
   "metadata": {},
   "source": [
    "## Multiple goods"
   ]
  },
  {
   "cell_type": "markdown",
   "metadata": {},
   "source": [
    "Solve the main problem extended with multiple goods:"
   ]
  },
  {
   "cell_type": "markdown",
   "metadata": {},
   "source": [
    "$$\n",
    "\\begin{aligned}\n",
    "u^{j}(x_{1},x_{2}) & = x_{1}^{\\alpha^1_{j}} \\cdot x_{2}^{\\alpha^2_{j}} \\cdots x_{M}^{\\alpha^M_{j}}\\\\\n",
    " &  \\alpha_j = [\\alpha^1_{j},\\alpha^2_{j},\\dots,\\alpha^M_{j}] \\\\\n",
    " &  \\log(\\alpha_j) \\sim \\mathcal{N}(0,\\Sigma) \\\\\n",
    "\\end{aligned}\n",
    "$$\n",
    "\n",
    "where $\\Sigma$ is a valid covariance matrix."
   ]
  },
  {
   "cell_type": "code",
   "execution_count": 20,
   "metadata": {},
   "outputs": [
    {
     "name": "stdout",
     "output_type": "stream",
     "text": [
      "[[ 1.3125  0.375   0.25  ]\n",
      " [ 0.375   1.25   -0.5   ]\n",
      " [ 0.25   -0.5     1.    ]]\n",
      "[1.91709082 1.91100849 1.63670693]\n",
      "[[ 1.          0.19955924  0.15149459]\n",
      " [ 0.19955924  1.         -0.16150109]\n",
      " [ 0.15149459 -0.16150109  1.        ]]\n"
     ]
    }
   ],
   "source": [
    "# a. choose parameters\n",
    "N = 10000\n",
    "J = 3\n",
    "\n",
    "# b. choose Sigma\n",
    "Sigma_lower = np.array([[1, 0, 0], [0.5, 1, 0], [0.25, -0.5, 1]])\n",
    "Sigma_upper = Sigma_lower.T\n",
    "Sigma = Sigma_upper@Sigma_lower\n",
    "print(Sigma)\n",
    "\n",
    "# c. draw random numbers\n",
    "alphas = np.exp(np.random.multivariate_normal(np.zeros(J), Sigma, 10000))\n",
    "print(np.mean(alphas,axis=0))\n",
    "print(np.corrcoef(alphas.T))\n",
    "\n",
    "# write your code here"
   ]
  }
 ],
 "metadata": {
  "kernelspec": {
   "display_name": "Python 3 (ipykernel)",
   "language": "python",
   "name": "python3"
  },
  "language_info": {
   "codemirror_mode": {
    "name": "ipython",
    "version": 3
   },
   "file_extension": ".py",
   "mimetype": "text/x-python",
   "name": "python",
   "nbconvert_exporter": "python",
   "pygments_lexer": "ipython3",
   "version": "3.9.13"
  },
  "toc-autonumbering": true
 },
 "nbformat": 4,
 "nbformat_minor": 4
}
